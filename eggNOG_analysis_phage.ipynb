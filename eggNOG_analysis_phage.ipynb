{
  "nbformat": 4,
  "nbformat_minor": 0,
  "metadata": {
    "colab": {
      "name": "eggNOG-analysis-phage.ipynb",
      "provenance": [],
      "authorship_tag": "ABX9TyPHylbdb37Kh+6RVkKO+9Z9",
      "include_colab_link": true
    },
    "kernelspec": {
      "name": "python3",
      "display_name": "Python 3"
    },
    "language_info": {
      "name": "python"
    }
  },
  "cells": [
    {
      "cell_type": "markdown",
      "metadata": {
        "id": "view-in-github",
        "colab_type": "text"
      },
      "source": [
        "<a href=\"https://colab.research.google.com/github/pjd-code/Kovacs-Phage/blob/main/eggNOG_analysis_phage.ipynb\" target=\"_parent\"><img src=\"https://colab.research.google.com/assets/colab-badge.svg\" alt=\"Open In Colab\"/></a>"
      ]
    },
    {
      "cell_type": "code",
      "execution_count": null,
      "metadata": {
        "id": "O4J4B22VdKTu"
      },
      "outputs": [],
      "source": [
        "!git clone https://github.com/eggnogdb/eggnog-mapper.git"
      ]
    },
    {
      "cell_type": "code",
      "source": [
        "%cd /content/eggnog-mapper"
      ],
      "metadata": {
        "id": "rMWwTgBndiBw"
      },
      "execution_count": null,
      "outputs": []
    },
    {
      "cell_type": "code",
      "source": [
        "!export PATH=/content/eggnog-mapper:\"$PATH\""
      ],
      "metadata": {
        "id": "M4GAjNbumbW0"
      },
      "execution_count": 7,
      "outputs": []
    },
    {
      "cell_type": "code",
      "source": [
        "!export EGGNOG_DATA_DIR=/content/eggnog-mapper/data"
      ],
      "metadata": {
        "id": "EnX-aKiAmmby"
      },
      "execution_count": 8,
      "outputs": []
    },
    {
      "cell_type": "code",
      "source": [
        "!python setup.py install"
      ],
      "metadata": {
        "id": "nsGYtrrOfHkX"
      },
      "execution_count": null,
      "outputs": []
    },
    {
      "cell_type": "code",
      "source": [
        "!pip install -r requirements.txt"
      ],
      "metadata": {
        "id": "txzVZbVVfToT"
      },
      "execution_count": null,
      "outputs": []
    },
    {
      "cell_type": "code",
      "source": [
        "!download_eggnog_data.py --data_dir /content/eggnog-mapper/data"
      ],
      "metadata": {
        "id": "oS8ywb7Wfknd"
      },
      "execution_count": null,
      "outputs": []
    },
    {
      "cell_type": "code",
      "source": [
        "!emapper.py -i /content/sample_data/contig6_main-only.fasta -o contig --data_dir /content/eggnog-mapper/data --itype genome "
      ],
      "metadata": {
        "id": "8X3oDIsYgLp9"
      },
      "execution_count": null,
      "outputs": []
    }
  ]
}