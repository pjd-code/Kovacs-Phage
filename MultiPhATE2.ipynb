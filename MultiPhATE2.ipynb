{
  "nbformat": 4,
  "nbformat_minor": 0,
  "metadata": {
    "colab": {
      "name": "MultiPhATE2.ipynb",
      "provenance": [],
      "mount_file_id": "10hNpM7JqM2q7AiREIY1ZW5EESATjdtmt",
      "authorship_tag": "ABX9TyOJnfNXFU06HSLJLTQlDc+f",
      "include_colab_link": true
    },
    "kernelspec": {
      "name": "python3",
      "display_name": "Python 3"
    },
    "language_info": {
      "name": "python"
    }
  },
  "cells": [
    {
      "cell_type": "markdown",
      "metadata": {
        "id": "view-in-github",
        "colab_type": "text"
      },
      "source": [
        "<a href=\"https://colab.research.google.com/github/pjd-code/Kovacs-Phage/blob/main/MultiPhATE2.ipynb\" target=\"_parent\"><img src=\"https://colab.research.google.com/assets/colab-badge.svg\" alt=\"Open In Colab\"/></a>"
      ]
    },
    {
      "cell_type": "code",
      "execution_count": null,
      "metadata": {
        "id": "V_FnkIxs0MP0"
      },
      "outputs": [],
      "source": [
        "#clean up the Colab environment\n",
        "%cd /content/sample_data\n",
        "!rm *.csv\n",
        "!rm *.md\n",
        "!rm *.json\n",
        "%cd /content\n",
        "!rmdir /content/sample_data"
      ]
    },
    {
      "cell_type": "code",
      "source": [
        "!git clone https://github.com/carolzhou/multiPhATE2"
      ],
      "metadata": {
        "id": "KhrA7_Nw9lY2"
      },
      "execution_count": null,
      "outputs": []
    },
    {
      "cell_type": "code",
      "source": [
        "%%bash\n",
        "MINICONDA_INSTALLER_SCRIPT=Miniconda3-4.5.4-Linux-x86_64.sh\n",
        "MINICONDA_PREFIX=/usr/local\n",
        "wget https://repo.continuum.io/miniconda/$MINICONDA_INSTALLER_SCRIPT\n",
        "chmod +x $MINICONDA_INSTALLER_SCRIPT\n",
        "./$MINICONDA_INSTALLER_SCRIPT -b -f -p $MINICONDA_PREFIX"
      ],
      "metadata": {
        "id": "4LqFfSVr7Sgh"
      },
      "execution_count": null,
      "outputs": []
    },
    {
      "cell_type": "code",
      "source": [
        "# should return /usr/local/bin/conda\n",
        "!which conda"
      ],
      "metadata": {
        "id": "lqDrIker8PFo"
      },
      "execution_count": null,
      "outputs": []
    },
    {
      "cell_type": "code",
      "source": [
        "!conda update -n base conda --yes"
      ],
      "metadata": {
        "id": "QCBeXVCOWVcW"
      },
      "execution_count": null,
      "outputs": []
    },
    {
      "cell_type": "code",
      "source": [
        "import sys\n",
        "sys.path\n",
        "import sys\n",
        "_ = (sys.path\n",
        "        .append(\"/usr/local/lib/python3.6/site-packages\"))"
      ],
      "metadata": {
        "id": "mQ2oqFF_8Q8G"
      },
      "execution_count": 6,
      "outputs": []
    },
    {
      "cell_type": "code",
      "source": [
        "!conda --version"
      ],
      "metadata": {
        "id": "fy1bez3O9AO3"
      },
      "execution_count": null,
      "outputs": []
    },
    {
      "cell_type": "code",
      "source": [
        "!conda config --add channels defaults \n",
        "!conda config --add channels conda-forge \n",
        "!conda config --add channels bioconda"
      ],
      "metadata": {
        "id": "F-5CPUSC9XCN"
      },
      "execution_count": null,
      "outputs": []
    },
    {
      "cell_type": "code",
      "source": [
        "!conda create --name multiphate --yes"
      ],
      "metadata": {
        "id": "KvPiQ0K09W8F"
      },
      "execution_count": null,
      "outputs": []
    },
    {
      "cell_type": "code",
      "source": [
        "!source activate multiphate"
      ],
      "metadata": {
        "id": "0F8E59ud9W1e"
      },
      "execution_count": 10,
      "outputs": []
    },
    {
      "cell_type": "code",
      "source": [
        "#install packages\n",
        "!conda install -c bioconda openssl=1.0 --yes\n",
        "!conda install -c anaconda libiconv --yes\n",
        "!conda install biopython --yes\n",
        "!conda install emboss --yes\n",
        "!conda install blast --yes\n",
        "!conda install glimmer --yes\n",
        "!conda install phanotate --yes\n",
        "!conda install prodigal --yes\n",
        "!conda install hmmer --yes\n",
        "!conda install trnascan-se --yes\n",
        "!conda install wget --yes\n",
        "!conda install clustalo --yes"
      ],
      "metadata": {
        "id": "kuC9a62b9WtO"
      },
      "execution_count": null,
      "outputs": []
    },
    {
      "cell_type": "code",
      "source": [
        "#configure the databases\n",
        "!makeblastdb -in /content/multiPhATE2/Databases/Phantome/Phantome_Phage_genes.faa -dbtype prot\n",
        "!makeblastdb -in /content/multiPhATE2/Databases/pVOGs/pVOGs.faa -dbtype prot"
      ],
      "metadata": {
        "id": "X5axRuXW9Wjl"
      },
      "execution_count": null,
      "outputs": []
    },
    {
      "cell_type": "code",
      "source": [
        "%cd /content/multiPhATE2"
      ],
      "metadata": {
        "id": "UWlU3U4zcVs8"
      },
      "execution_count": null,
      "outputs": []
    },
    {
      "cell_type": "code",
      "source": [
        "%%capture\n",
        "\n",
        "#change dirctory to /bin and retrive the BLAST executables from the NCBI repository \n",
        "%cd /bin\n",
        "!wget https://ftp.ncbi.nlm.nih.gov/blast/executables/LATEST/ncbi-blast-2.12.0+-x64-linux.tar.gz -P /bin/\n",
        "\n",
        "#decompress the file, tar.gz is a method of compresion used by linux/unix systems\n",
        "!tar zxvpf ncbi-blast-2.12.0+-x64-linux.tar.gz\n",
        "\n",
        "#add the blast executables to $PATH this path is specific to COLAB and will vary by operating system\n",
        "#by adding the new directory to the PATH we are telling the system where to look when we give it an unfamiliar command\n",
        "%env PATH=$PATH:/bin/ncbi-blast-2.12.0+/bin/:/usr/local/nvidia/bin:/usr/local/cuda/bin:/usr/local/sbin:/usr/local/bin:/usr/sbin:/usr/bin:/sbin:/bin:/tools/node/bin:/tools/google-cloud-sdk/bin:/opt/bin\n"
      ],
      "metadata": {
        "id": "UN4OQND3GIX-"
      },
      "execution_count": 14,
      "outputs": []
    },
    {
      "cell_type": "code",
      "source": [
        "!python3 /content/multiPhATE2/DatabasePrep/dbPrep_getDBs.py"
      ],
      "metadata": {
        "id": "DEoDc_jCFGOi"
      },
      "execution_count": null,
      "outputs": []
    },
    {
      "cell_type": "code",
      "source": [
        "%cd /content/multiPhATE2"
      ],
      "metadata": {
        "id": "FnVMoOXJBwGw"
      },
      "execution_count": null,
      "outputs": []
    },
    {
      "cell_type": "code",
      "source": [
        "!python3 multiPhate.py multiPhate.config"
      ],
      "metadata": {
        "id": "q6w2-t2A8UqI"
      },
      "execution_count": null,
      "outputs": []
    }
  ]
}