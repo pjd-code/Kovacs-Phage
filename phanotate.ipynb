{
  "nbformat": 4,
  "nbformat_minor": 0,
  "metadata": {
    "colab": {
      "name": "phanotate.ipynb",
      "provenance": [],
      "authorship_tag": "ABX9TyPFn4NlXkx1DWzki6oGQeUl",
      "include_colab_link": true
    },
    "kernelspec": {
      "name": "python3",
      "display_name": "Python 3"
    },
    "language_info": {
      "name": "python"
    }
  },
  "cells": [
    {
      "cell_type": "markdown",
      "metadata": {
        "id": "view-in-github",
        "colab_type": "text"
      },
      "source": [
        "<a href=\"https://colab.research.google.com/github/pjd-code/Kovacs-Phage/blob/main/phanotate.ipynb\" target=\"_parent\"><img src=\"https://colab.research.google.com/assets/colab-badge.svg\" alt=\"Open In Colab\"/></a>"
      ]
    },
    {
      "cell_type": "markdown",
      "source": [
        "https://github.com/deprekate/PHANOTATE\n",
        "\n",
        "Katelyn McNair, Carol Zhou, Elizabeth A Dinsdale, Brian Souza, Robert A Edwards, PHANOTATE: a novel approach to gene identification in phage genomes, Bioinformatics, Volume 35, Issue 22, 15 November 2019, Pages 4537–4542, https://doi.org/10.1093/bioinformatics/btz265"
      ],
      "metadata": {
        "id": "AfXuWPLdaMI8"
      }
    },
    {
      "cell_type": "code",
      "execution_count": null,
      "metadata": {
        "id": "asdIB4lqOclc"
      },
      "outputs": [],
      "source": [
        "pip install phanotate"
      ]
    },
    {
      "cell_type": "code",
      "source": [
        "!phanotate.py -o /content/sample_data/contig5_phanotate_tabular_annotation -f tabular /content/sample_data/contig5_main-only.fasta"
      ],
      "metadata": {
        "id": "XFb5vBGvOzAr"
      },
      "execution_count": null,
      "outputs": []
    },
    {
      "cell_type": "code",
      "source": [
        "!phanotate.py -o /content/sample_data/contig5_phanotate_genbank_annotation -f genbank /content/sample_data/contig5_main-only.fasta"
      ],
      "metadata": {
        "id": "JK3TZirCSOfO"
      },
      "execution_count": null,
      "outputs": []
    }
  ]
}