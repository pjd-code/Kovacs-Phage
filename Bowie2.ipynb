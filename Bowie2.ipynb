{
  "nbformat": 4,
  "nbformat_minor": 0,
  "metadata": {
    "colab": {
      "name": "Bowie2.ipynb",
      "provenance": [],
      "authorship_tag": "ABX9TyMdcNpNDQHH+kAq6wxjHj8j",
      "include_colab_link": true
    },
    "kernelspec": {
      "name": "python3",
      "display_name": "Python 3"
    },
    "language_info": {
      "name": "python"
    }
  },
  "cells": [
    {
      "cell_type": "markdown",
      "metadata": {
        "id": "view-in-github",
        "colab_type": "text"
      },
      "source": [
        "<a href=\"https://colab.research.google.com/github/pjd-code/Kovacs-Phage/blob/main/Bowie2.ipynb\" target=\"_parent\"><img src=\"https://colab.research.google.com/assets/colab-badge.svg\" alt=\"Open In Colab\"/></a>"
      ]
    },
    {
      "cell_type": "code",
      "source": [
        "#clean up the Colab environment\n",
        "%cd /content/sample_data\n",
        "!rm *.csv\n",
        "!rm *.md\n",
        "!rm *.json"
      ],
      "metadata": {
        "id": "Skfsa1Ppx_X5"
      },
      "execution_count": null,
      "outputs": []
    },
    {
      "cell_type": "code",
      "source": [
        "!wget \"https://launch.basespace.illumina.com/CLI/latest/amd64-linux/bs\" -O /bin/bs\n",
        "#this command changes our basespace file (bs) to an executable\n",
        "!chmod u+x /bin/bs"
      ],
      "metadata": {
        "id": "qGZxoJIzuIa7"
      },
      "execution_count": null,
      "outputs": []
    },
    {
      "cell_type": "code",
      "source": [
        "!bs auth"
      ],
      "metadata": {
        "id": "dbRLJz6WvUc-"
      },
      "execution_count": null,
      "outputs": []
    },
    {
      "cell_type": "code",
      "source": [
        "!bs project contents -i 313805910 --extension=fastq.gz"
      ],
      "metadata": {
        "id": "Ybq_6ve3vZjS"
      },
      "execution_count": null,
      "outputs": []
    },
    {
      "cell_type": "code",
      "source": [
        "!bs project download --id 313805910 --extension=fastq.gz -o /content/sample_data"
      ],
      "metadata": {
        "id": "s-y4JWulyhEV"
      },
      "execution_count": null,
      "outputs": []
    },
    {
      "cell_type": "code",
      "source": [
        "%cd /content/sample_data\n",
        "#consolidate in one folder\n",
        "!mkdir samples \n",
        "!find . -name \"*.gz\" -exec mv \"{}\" samples \\;\n",
        "!rmdir */"
      ],
      "metadata": {
        "id": "tGQOy231y6Dt"
      },
      "execution_count": null,
      "outputs": []
    },
    {
      "cell_type": "markdown",
      "source": [
        "https://rnnh.github.io/bioinfo-notebook/docs/bowtie2.html\n",
        "\n",
        "http://bowtie-bio.sourceforge.net/bowtie2/manual.shtml\n",
        "\n"
      ],
      "metadata": {
        "id": "wE-Fq1b_apSV"
      }
    },
    {
      "cell_type": "code",
      "source": [
        "#install bowtie2\n",
        "%cd /content/sample_data\n",
        "!wget \"https://sourceforge.net/projects/bowtie-bio/files/bowtie2/2.4.4/bowtie2-2.4.4-source.zip/download\" --trust-server-names\n",
        "\n",
        "!unzip /content/sample_data/bowtie2-2.4.4-source.zip\n",
        "\n",
        "%cd /content/sample_data/bowtie2-2.4.4\n",
        "\n",
        "!make\n",
        "\n",
        "%env PATH=$PATH:/usr/local/nvidia/bin:/usr/local/cuda/bin:/usr/local/sbin:/usr/local/bin:/usr/sbin:/usr/bin:/sbin:/bin:/tools/node/bin:/tools/google-cloud-sdk/bin:/opt/bin:/content/sample_data/bowtie2-2.4.4\n",
        "\n",
        "#Langmead B, Wilks C, Antonescu V, Charles R. Scaling read aligners to hundreds of threads on general-purpose processors. Bioinformatics. 2018 Jul 18. doi: 10.1093/bioinformatics/bty648.\n",
        "#Langmead B, Salzberg SL. Fast gapped-read alignment with Bowtie 2. Nature Methods. 2012 Mar 4;9(4):357-9. doi: 10.1038/nmeth.1923."
      ],
      "metadata": {
        "id": "taBR5rYKVICR"
      },
      "execution_count": null,
      "outputs": []
    },
    {
      "cell_type": "code",
      "source": [
        "#build the bowtie index\n",
        "!mkdir /content/sample_data/bowtie_index\n",
        "%cd /content/sample_data/bowtie_index\n",
        "!bowtie2-build --threads 6 /content/sample_data/contig5_main-only.fasta contig5 -f"
      ],
      "metadata": {
        "id": "Yboe1BZlVH_X"
      },
      "execution_count": null,
      "outputs": []
    },
    {
      "cell_type": "code",
      "source": [
        "!bowtie2 -x /content/sample_data/bowtie_index/contig5 -1 /content/sample_data/samples/Kovacs-Phage-05_S5_L001_R1_001.fastq.gz -2 /content/sample_data/samples/Kovacs-Phage-05_S5_L001_R2_001.fastq.gz --no-unal -S contig5.sam"
      ],
      "metadata": {
        "id": "0fjhMGUJ6wIT"
      },
      "execution_count": null,
      "outputs": []
    },
    {
      "cell_type": "markdown",
      "source": [
        "Twelve years of SAMtools and BCFtools\n",
        "Petr Danecek, James K Bonfield, Jennifer Liddle, John Marshall, Valeriu Ohan, Martin O Pollard, Andrew Whitwham, Thomas Keane, Shane A McCarthy, Robert M Davies, Heng Li\n",
        "GigaScience, Volume 10, Issue 2, February 2021, giab008, https://doi.org/10.1093/gigascience/giab008"
      ],
      "metadata": {
        "id": "_lNMBLrEVgRb"
      }
    },
    {
      "cell_type": "code",
      "source": [
        "!sudo apt-get install autoheader\n",
        "!sudo apt-get install autoconf\n",
        "!sudo apt-get install samtools"
      ],
      "metadata": {
        "id": "ahzQxRFdWaFh"
      },
      "execution_count": null,
      "outputs": []
    },
    {
      "cell_type": "code",
      "source": [
        "!samtools view -S -b /content/sample_data/bowtie_index/contig5.sam > /content/sample_data/contig5.bam"
      ],
      "metadata": {
        "id": "1ErZgdOCZCTq"
      },
      "execution_count": null,
      "outputs": []
    }
  ]
}