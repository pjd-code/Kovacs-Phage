{
  "nbformat": 4,
  "nbformat_minor": 0,
  "metadata": {
    "colab": {
      "name": "SPAdes_Genome_Assembly.ipynb",
      "provenance": [],
      "machine_shape": "hm",
      "authorship_tag": "ABX9TyMrgn/Wix2tkc/+8VJV4RSm",
      "include_colab_link": true
    },
    "kernelspec": {
      "name": "python3",
      "display_name": "Python 3"
    },
    "language_info": {
      "name": "python"
    }
  },
  "cells": [
    {
      "cell_type": "markdown",
      "metadata": {
        "id": "view-in-github",
        "colab_type": "text"
      },
      "source": [
        "<a href=\"https://colab.research.google.com/github/pjd-code/Kovacs-Phage/blob/main/SPAdes_Genome_Assembly.ipynb\" target=\"_parent\"><img src=\"https://colab.research.google.com/assets/colab-badge.svg\" alt=\"Open In Colab\"/></a>"
      ]
    },
    {
      "cell_type": "code",
      "execution_count": null,
      "metadata": {
        "id": "3HyXaC3CidFx"
      },
      "outputs": [],
      "source": [
        "! wget http://cab.spbu.ru/files/release3.15.3/SPAdes-3.15.3-Linux.tar.gz\n",
        "! tar -xzf SPAdes-3.15.3-Linux.tar.gz\n",
        "%cd SPAdes-3.15.3-Linux/bin/"
      ]
    },
    {
      "cell_type": "code",
      "source": [
        "!wget \"https://launch.basespace.illumina.com/CLI/latest/amd64-linux/bs\" -O /bin/bs\n",
        "#this command changes our basespace file (bs) to an executable\n",
        "!chmod u+x /bin/bs"
      ],
      "metadata": {
        "id": "qGZxoJIzuIa7"
      },
      "execution_count": null,
      "outputs": []
    },
    {
      "cell_type": "code",
      "source": [
        "!bs auth"
      ],
      "metadata": {
        "id": "dbRLJz6WvUc-"
      },
      "execution_count": null,
      "outputs": []
    },
    {
      "cell_type": "code",
      "source": [
        "#clean up the Colab environment\n",
        "%cd /content/sample_data\n",
        "!rm *.csv\n",
        "!rm *.md\n",
        "!rm *.json"
      ],
      "metadata": {
        "colab": {
          "base_uri": "https://localhost:8080/"
        },
        "id": "Skfsa1Ppx_X5",
        "outputId": "efa298df-6ddc-4928-8252-6abf57cf8e24"
      },
      "execution_count": null,
      "outputs": [
        {
          "output_type": "stream",
          "name": "stdout",
          "text": [
            "/content/sample_data\n"
          ]
        }
      ]
    },
    {
      "cell_type": "code",
      "source": [
        "!bs project contents -i 313805910 --extension=fastq.gz"
      ],
      "metadata": {
        "id": "Ybq_6ve3vZjS"
      },
      "execution_count": null,
      "outputs": []
    },
    {
      "cell_type": "code",
      "source": [
        "!bs project download --id 313805910 --extension=fastq.gz -o /content/sample_data"
      ],
      "metadata": {
        "id": "s-y4JWulyhEV"
      },
      "execution_count": null,
      "outputs": []
    },
    {
      "cell_type": "code",
      "source": [
        "%cd /content/sample_data\n",
        "#consolidate in one folder\n",
        "!mkdir samples \n",
        "!find . -name \"*.gz\" -exec mv \"{}\" samples \\;\n",
        "!rmdir */\n",
        "!mkdir sample_1 sample_2 sample_3 sample_4 sample_5 sample_6"
      ],
      "metadata": {
        "id": "tGQOy231y6Dt"
      },
      "execution_count": null,
      "outputs": []
    },
    {
      "cell_type": "code",
      "source": [
        "%cd /content/SPAdes-3.15.3-Linux/bin\n",
        "! python spades.py --isolate \\\n",
        "--pe1-1 /content/sample_data/samples/Kovacs-Phage-01_S1_L001_R1_001.fastq.gz --pe1-2 /content/sample_data/samples/Kovacs-Phage-01_S1_L001_R2_001.fastq.gz \\\n",
        "-o /content/sample_data/sample_1"
      ],
      "metadata": {
        "id": "10xjyOCdzF_W"
      },
      "execution_count": null,
      "outputs": []
    },
    {
      "cell_type": "code",
      "source": [
        "%cd /content/SPAdes-3.15.3-Linux/bin\n",
        "! python spades.py --isolate \\\n",
        "--pe1-1 /content/sample_data/samples/Kovacs-Phage-02_S2_L001_R1_001.fastq.gz --pe1-2 /content/sample_data/samples/Kovacs-Phage-02_S2_L001_R2_001.fastq.gz \\\n",
        "-o /content/sample_data/sample_2"
      ],
      "metadata": {
        "id": "H7pXrjYWmVCX"
      },
      "execution_count": null,
      "outputs": []
    },
    {
      "cell_type": "code",
      "source": [
        "%cd /content/SPAdes-3.15.3-Linux/bin\n",
        "! python spades.py --isolate \\\n",
        "--pe1-1 /content/sample_data/samples/Kovacs-Phage-03_S3_L001_R1_001.fastq.gz --pe1-2 /content/sample_data/samples/Kovacs-Phage-03_S3_L001_R2_001.fastq.gz \\\n",
        "-o /content/sample_data/sample_3"
      ],
      "metadata": {
        "id": "QwkhruY-mU2v"
      },
      "execution_count": null,
      "outputs": []
    },
    {
      "cell_type": "code",
      "source": [
        "%cd /content/SPAdes-3.15.3-Linux/bin\n",
        "! python spades.py --isolate \\\n",
        "--pe1-1 /content/sample_data/samples/Kovacs-Phage-04_S4_L001_R1_001.fastq.gz --pe1-2 /content/sample_data/samples/Kovacs-Phage-04_S4_L001_R2_001.fastq.gz \\\n",
        "-o /content/sample_data/sample_4"
      ],
      "metadata": {
        "id": "Towp31y3mUrX"
      },
      "execution_count": null,
      "outputs": []
    },
    {
      "cell_type": "code",
      "source": [
        "%cd /content/SPAdes-3.15.3-Linux/bin\n",
        "! python spades.py --isolate \\\n",
        "--pe1-1 /content/sample_data/samples/Kovacs-Phage-05_S5_L001_R1_001.fastq.gz --pe1-2 /content/sample_data/samples/Kovacs-Phage-05_S5_L001_R2_001.fastq.gz \\\n",
        "-o /content/sample_data/sample_5"
      ],
      "metadata": {
        "id": "16M7SKCPmUcJ"
      },
      "execution_count": null,
      "outputs": []
    },
    {
      "cell_type": "code",
      "source": [
        "%cd /content/SPAdes-3.15.3-Linux/bin\n",
        "! python spades.py --isolate \\\n",
        "--pe1-1 /content/sample_data/samples/Kovacs-Phage-06_S6_L001_R1_001.fastq.gz --pe1-2 /content/sample_data/samples/Kovacs-Phage-06_S6_L001_R2_001.fastq.gz \\\n",
        "-o /content/sample_data/sample_6"
      ],
      "metadata": {
        "id": "JTjmK_Mfmdyf"
      },
      "execution_count": null,
      "outputs": []
    }
  ]
}